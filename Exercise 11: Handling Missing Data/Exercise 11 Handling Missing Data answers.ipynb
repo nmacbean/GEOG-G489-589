{
 "cells": [
  {
   "cell_type": "markdown",
   "metadata": {},
   "source": [
    "# Exercise 11: Handling missing values using scikit-learn and pandas in preparation for statistical data analysis using SciPy\n",
    "\n",
    "In today's class you will work through this exercise to perform exploratory data analysis to compare the GPP and SIF data. Specifically, we will explore how we deal with missing values before we perform a statistical analysis. This kind of exploratory data analysis is a crucial first step in analyzing your data.  \n",
    "\n",
    "We will be using the GPP and SIF datasets contained in netcdf files that we have been using in previous classes.\n",
    "\n",
    "Follow the instructions and type your answers in the code boxes with \"# type your command here\". There are also some questions to answer in the text boxes. A second jupyter notebook with the answers will be provided after the deadline.\n",
    "\n",
    "Complete the whole assignment in this Jupyter Notebook and **upload it to Canvas by 1pm Monday 21st October**."
   ]
  },
  {
   "cell_type": "markdown",
   "metadata": {},
   "source": [
    "### 1. Loading GPP and SIF data\n",
    "\n",
    "As you have done in previous in-class exercises, firs, download the GPP (orch_gpp_monthly_2007-2011.nc) and SIF (gome2_sif_monthly_2007-2011.nc) files and set the path to where the files are stored in our script. \n",
    "\n",
    "Then you need to import the netcdf library, open both the GPP and SIF netcdf files, and read in the data. \n",
    "\n",
    "You may need to query the variable keys to check the name of the SIF variable. Follow the instructions you have learned in previous classes to write the code you in the box below and run the code. Note! You will not just be able to use f=nc.Dataset() as we now need to open two files, therefore you will need to call them different names."
   ]
  },
  {
   "cell_type": "code",
   "execution_count": 1,
   "metadata": {},
   "outputs": [],
   "source": [
    "# type your commands here"
   ]
  },
  {
   "cell_type": "code",
   "execution_count": 3,
   "metadata": {},
   "outputs": [],
   "source": [
    "import netCDF4 as nc\n",
    "import numpy as np\n",
    "gpp_file = 'orch_gpp_monthly_2007-2011.nc'\n",
    "sif_file = 'gome2_sif_monthly_2007-2011.nc'\n",
    "gpp_f=nc.Dataset(gpp_file,'r')\n",
    "sif_f=nc.Dataset(sif_file,'r')\n",
    "gpp_data = gpp_f.variables['GPP'][:]\n",
    "sif_data = sif_f.variables['SIF'][:]"
   ]
  },
  {
   "cell_type": "markdown",
   "metadata": {},
   "source": [
    "### 2. Exploratory comparison of GPP and SIF - the issue of missing values\n",
    "\n",
    "As I mentioned in the previous in-class exercises, SIF should be a good proxy of GPP. If you compare the var info for GPP to SIF using the commands we learned in previous exercises you will see that the units of GPP are not the same as for SIF - this is why we see different ranges of data in the maps we plotted in Exercise 9. Therefore, we cannot directly compare the absolute values of GPP and SIF. When we plotted the maps we could visually compare their spatial distributions - but it is only easy to see large scale patterns. To really compare the data we would need to normalize or scale both datasets. \n",
    "\n",
    "However, we are not interested in comparing the absolute values of GPP and SIF as the values are not the same. Instead, we are mostly interested in comparing the temporal patterns - i.e. the correlation between the two datasets. We don't need to scale the data for this. We can visualize how well correlated the two datasets are using a scatter plot. We have plotted scatter plots many times. Type your code to plot the scatter plot between GPP and SIF in the box below:"
   ]
  },
  {
   "cell_type": "code",
   "execution_count": 28,
   "metadata": {},
   "outputs": [],
   "source": [
    "# type your commands here"
   ]
  },
  {
   "cell_type": "code",
   "execution_count": 29,
   "metadata": {},
   "outputs": [
    {
     "data": {
      "text/plain": [
       "<matplotlib.collections.PathCollection at 0xa5822f0>"
      ]
     },
     "execution_count": 29,
     "metadata": {},
     "output_type": "execute_result"
    },
    {
     "data": {
      "image/png": "[encoded data removed]",
      "text/plain": [
       "<Figure size 432x288 with 1 Axes>"
      ]
     },
     "metadata": {},
     "output_type": "display_data"
    }
   ],
   "source": [
    "plt.scatter(gpp_data, sif_data)"
   ]
  },
  {
   "cell_type": "markdown",
   "metadata": {},
   "source": [
    "However, there is one more step. Given the two datasets have different ranges, if you simply plot a scatter plot you will likely not have seen any positive correlation between the datasets. \n",
    "\n",
    "If GPP is on the x-axis and SIF is on the y-axis in your scatter plot above, you will likely have seen a vertical thin spread of points. This is because the default x-axis range is much bigger than the range of the GPP numbers. \n",
    "\n",
    "We need to re-scale the axes. Re-plot your scatter plot in the box below and use   \n",
    "**plt.xlims((xmin,xmax))**  \n",
    "and  \n",
    "**plt.ylims((ymin,ymax))**  \n",
    "to re-scale the axes. \n",
    "\n",
    "You can estimate the min or max for each dataset or use numpy commands to do so. Also, add labels to your axes."
   ]
  },
  {
   "cell_type": "code",
   "execution_count": 30,
   "metadata": {},
   "outputs": [],
   "source": [
    "# type your commands here"
   ]
  },
  {
   "cell_type": "code",
   "execution_count": 31,
   "metadata": {},
   "outputs": [
    {
     "name": "stdout",
     "output_type": "stream",
     "text": [
      "-1.3347748297584611e-05 0.0002975991429021965\n"
     ]
    },
    {
     "data": {
      "text/plain": [
       "Text(0,0.5,'SIF')"
      ]
     },
     "execution_count": 31,
     "metadata": {},
     "output_type": "execute_result"
    },
    {
     "data": {
      "image/png": "[encoded data removed]",
      "text/plain": [
       "<Figure size 432x288 with 1 Axes>"
      ]
     },
     "metadata": {},
     "output_type": "display_data"
    }
   ],
   "source": [
    "print (np.min(gpp_data), np.max(gpp_data))\n",
    "plt.scatter(gpp_data, sif_data)\n",
    "plt.xlim((0,0.0004)) #--> try this now - see introduction to data visualization in python\n",
    "plt.ylim((0,6))\n",
    "plt.xlabel('GPP')\n",
    "plt.ylabel('SIF')"
   ]
  },
  {
   "cell_type": "markdown",
   "metadata": {},
   "source": [
    "We should now see much more of a spread in the GPP data and more of a relationship between GPP and SIF. \n",
    "\n",
    "- *From this scatter plot, do you think GPP and SIF are positively correlated?*\n",
    "\n",
    "In the scatter plot above we have included all the terrestrial grid points. It is not that surprising that a really clear and well-defined relationship does not emerge. \n",
    "\n",
    "While we're exploring our data, we may as well look at a simple timeseries plot of both GPP and SIF from one (or several) grid points to see if it looks like there is temporal correlation between the two variables. We'll chose a grid point over Indiana for our comparison (row 26 and column 48). Therefore, our GPP and SIF indices will be [:,26,48]. \n",
    "\n",
    "First, we need to scale both the GPP and SIF data to their minimum and maximum values to remove the large discrepancy in values due to their different unit ranges. \n",
    "\n",
    "We do this using a scikit-learn function called minmax_scale which scales all the data to a specified range (default to between 0 and 1). Scikit-learn is a machine learning library for python (https://scikit-learn.org/). We will learn more about this library in the last part of the semester. \n",
    "\n",
    "To scale our data using minmax_scale we first import this specific function from the scikit-learn library and then we use it with the following commands:\n",
    "\n",
    "**from sklearn.preprocessing import minmax_scale**\n",
    "\n",
    "**gpp_ind_scaled = minmax_scale(gpp_data[:,26,48])**\n",
    "\n",
    "Type these commands to create a scaled GPP and SIF array for the Indiana pixel in the box below, then print the gpp_ind_scaled array and its shape:"
   ]
  },
  {
   "cell_type": "code",
   "execution_count": null,
   "metadata": {},
   "outputs": [],
   "source": [
    "# type your commands here"
   ]
  },
  {
   "cell_type": "code",
   "execution_count": 32,
   "metadata": {},
   "outputs": [
    {
     "name": "stderr",
     "output_type": "stream",
     "text": [
      "c:\\program files (x86)\\python37-32\\lib\\site-packages\\sklearn\\utils\\__init__.py:4: DeprecationWarning: Using or importing the ABCs from 'collections' instead of from 'collections.abc' is deprecated, and in 3.8 it will stop working\n",
      "  from collections import Sequence\n"
     ]
    },
    {
     "name": "stdout",
     "output_type": "stream",
     "text": [
      "[0.05023936 0.00936086 0.15093459 0.59811851 0.90675162 0.90468805\n",
      " 0.88029148 0.61179255 0.43005134 0.36122421 0.25028884 0.0702385\n",
      " 0.02661248 0.04980739 0.13715296 0.42537742 0.84413094 0.93591465\n",
      " 0.90147692 0.72098542 0.5311003  0.33754596 0.16270545 0.02146292\n",
      " 0.01866216 0.05039953 0.10466859 0.58143746 0.93179832 0.99185118\n",
      " 0.94071143 0.78644781 0.62575371 0.43473135 0.26135845 0.04585894\n",
      " 0.00727196 0.         0.10625796 0.48681546 0.90552829 0.97631647\n",
      " 0.87676821 0.76514368 0.5556005  0.40235738 0.23849826 0.00626733\n",
      " 0.00173261 0.06014034 0.12555883 0.49741416 0.89058781 1.\n",
      " 0.90917157 0.77243457 0.64977083 0.44959489 0.2407132  0.07633695] (60,)\n"
     ]
    }
   ],
   "source": [
    "from sklearn.preprocessing import minmax_scale\n",
    "\n",
    "gpp_ind_scaled = minmax_scale(gpp_data[:,26,48])\n",
    "\n",
    "sif_ind_scaled = minmax_scale(sif_data[:,26,48])\n",
    "\n",
    "print (gpp_ind_scaled, np.shape(gpp_ind_scaled))"
   ]
  },
  {
   "cell_type": "markdown",
   "metadata": {},
   "source": [
    "Now we can plot a simple timeseries For this we simply use the plt.plot() command. Create a plt.figure() as above and then plot two time series *on the same plot* using plt.plot - one for GPP and one for SIF for this Indiana pixel. Use the argument c='blue' for GPP and c='red' for SIF."
   ]
  },
  {
   "cell_type": "code",
   "execution_count": 33,
   "metadata": {},
   "outputs": [],
   "source": [
    "# type your commands here"
   ]
  },
  {
   "cell_type": "code",
   "execution_count": 34,
   "metadata": {},
   "outputs": [
    {
     "data": {
      "text/plain": [
       "[<matplotlib.lines.Line2D at 0xcabb570>]"
      ]
     },
     "execution_count": 34,
     "metadata": {},
     "output_type": "execute_result"
    },
    {
     "data": {
      "image/png": "[encoded data removed]",
      "text/plain": [
       "<Figure size 432x288 with 1 Axes>"
      ]
     },
     "metadata": {},
     "output_type": "display_data"
    }
   ],
   "source": [
    "plt.figure()\n",
    "plt.plot(gpp_ind_scaled, c='blue')\n",
    "plt.plot(sif_ind_scaled, c='red')"
   ]
  },
  {
   "cell_type": "markdown",
   "metadata": {},
   "source": [
    "- *The SIF plot looks strange...why is this?*\n",
    "\n",
    "We see two sharp spikes instead of a continous timeseries. This is not normal. It likely indicates the presence of missing values in the SIF timeseries. This is not unlikely, as SIF are observations. We can check this by printing out the initial SIF data for this pixel in the box below"
   ]
  },
  {
   "cell_type": "code",
   "execution_count": 35,
   "metadata": {},
   "outputs": [],
   "source": [
    "# type your commands here"
   ]
  },
  {
   "cell_type": "code",
   "execution_count": 37,
   "metadata": {},
   "outputs": [
    {
     "name": "stdout",
     "output_type": "stream",
     "text": [
      "[0.3702765107154846 0.1981554478406906 0.4116765558719635\n",
      " 1.035319447517395 3.686494827270508 3.8327250480651855 3.4478652477264404\n",
      " 3.0446674823760986 2.540574073791504 1.786563515663147 0.5650244951248169\n",
      " 0.18942007422447205 0.23639816045761108 -- 0.3843936622142792\n",
      " 0.875118613243103 3.474569320678711 3.5783183574676514 3.3874809741973877\n",
      " 2.9115912914276123 2.863898992538452 1.5362201929092407\n",
      " 0.3770902752876282 0.21828004717826843 0.10253697633743286\n",
      " 0.2177988886833191 0.4275607764720917 1.1165016889572144\n",
      " 2.7446603775024414 3.240485668182373 3.4689669609069824\n",
      " 2.9180898666381836 2.357997417449951 1.5216645002365112\n",
      " 0.31861981749534607 0.13427454233169556 0.06083620339632034 --\n",
      " 0.3903891146183014 1.2109804153442383 3.6430702209472656\n",
      " 3.150801658630371 3.0559260845184326 2.8290939331054688\n",
      " 2.2804081439971924 1.2762112617492676 0.3125302493572235\n",
      " 0.12079162895679474 0.0370614230632782 0.06269023567438126\n",
      " 0.5199649930000305 0.9488006234169006 3.6417489051818848\n",
      " 3.4724245071411133 3.0062098503112793 3.0487990379333496\n",
      " 2.0721359252929688 1.2136820554733276 0.3642445504665375\n",
      " 0.21951211988925934]\n"
     ]
    }
   ],
   "source": [
    "print (sif_data[:,26,48])"
   ]
  },
  {
   "cell_type": "markdown",
   "metadata": {},
   "source": [
    "Indeed, there are two missing data points that have been masked (we can see the -- in two places). It is always tricky dealing with missing numbers! How do we deal with this? We can fill these points with NaNs using the numpy masked array filled function that we have come across before:\n",
    "\n",
    "**np.ma.filled(sif_data[:,26,48], np.nan)**\n",
    "\n",
    "However, the sklearn scaling and transform methods unfortunately don't deal with NaNs very well. The minmax_scale method throws an error if you have NaNs in your array. \n",
    "\n",
    "There are other more sophisticated scikit learn functions like the MinMaxScaler() function that you could use (https://scikit-learn.org/stable/modules/generated/sklearn.preprocessing.MinMaxScaler.html#sklearn.preprocessing.MinMaxScaler) but as it says on the manual page it will disregard NaNs when creating the fit() of the scaler, but include them again when it uses the transform() method to scale the data.\n",
    "\n",
    "What else can we do? The calculation to scale between a min and a max is relatively simple - the equation is:\n",
    "\n",
    "*scaled_data = data - min(data) / max(data) - min(data)*\n",
    "\n",
    "We can use numpy functions np.nanmin and np.nanmax to find the minimum and maximum without including the NaNs, e.g. for the SIF data:\n",
    "\n",
    "**sif_ind_scaled = ( sif_data[:,26,48] - np.nanmin(sif_data[:,26,48]) ) / ( np.nanmax(sif_data[:,26,48]) - np.nanmin(sif_data[:,26,48]) )**\n",
    "\n",
    "Note this also works even if you have not filled masked array with NaNs where the missing values are - it still treats the masked values as the NaNs\n",
    "\n",
    "Try all these commands in the box below and print the result to see what we get:"
   ]
  },
  {
   "cell_type": "code",
   "execution_count": null,
   "metadata": {},
   "outputs": [],
   "source": [
    "# type your commands here"
   ]
  },
  {
   "cell_type": "code",
   "execution_count": 39,
   "metadata": {},
   "outputs": [
    {
     "name": "stdout",
     "output_type": "stream",
     "text": [
      "[0.08778835833072662 0.04244159534573555 0.0986955538392067\n",
      " 0.26299959421157837 0.9614744186401367 1.0 0.8986054062843323\n",
      " 0.7923794984817505 0.6595717668533325 0.4609212577342987\n",
      " 0.13909637928009033 0.04014018923044205 0.05251696705818176 --\n",
      " 0.09150764346122742 0.22079332172870636 0.9056408405303955\n",
      " 0.9329743981361389 0.8826966285705566 0.757319450378418\n",
      " 0.7447544932365417 0.394966185092926 0.08958350867033005\n",
      " 0.04774359613656998 0.017250094562768936 0.047616828233003616\n",
      " 0.10288038849830627 0.2843877375125885 0.7133400440216064\n",
      " 0.843969464302063 0.9041648507118225 0.7590315341949463\n",
      " 0.6114704012870789 0.39113134145736694 0.07417896389961243\n",
      " 0.025611625984311104 0.006263669114559889 -- 0.09308719635009766\n",
      " 0.3092789649963379 0.9500338435173035 0.8203414678573608\n",
      " 0.795345664024353 0.7355847954750061 0.5910288691520691\n",
      " 0.32646459341049194 0.07257461547851562 0.02205943875014782 0.0\n",
      " 0.006752129644155502 0.12722507119178772 0.24020548164844513\n",
      " 0.9496856927871704 0.90507572889328 0.7822474837303162 0.7934679985046387\n",
      " 0.5361577272415161 0.3099907636642456 0.08619918674230576\n",
      " 0.04806819558143616]\n"
     ]
    }
   ],
   "source": [
    "sif_data[:,26,48] = np.ma.filled(sif_data[:,26,48], np.nan)\n",
    "sif_ind_scaled = ( sif_data[:,26,48] - np.nanmin(sif_data[:,26,48]) ) / ( np.nanmax(sif_data[:,26,48]) - np.nanmin(sif_data[:,26,48]) )\n",
    "print (sif_ind_scaled)"
   ]
  },
  {
   "cell_type": "markdown",
   "metadata": {},
   "source": [
    "The data are now scaled but we have kept the missing values out of the calculation and masked.\n",
    "\n",
    "Now we can repeat our plt.plot() commands for both GPP and SIF below and see if we have a good correlation."
   ]
  },
  {
   "cell_type": "code",
   "execution_count": 40,
   "metadata": {},
   "outputs": [],
   "source": [
    "# type your commands here"
   ]
  },
  {
   "cell_type": "code",
   "execution_count": 41,
   "metadata": {},
   "outputs": [
    {
     "data": {
      "text/plain": [
       "[<matplotlib.lines.Line2D at 0xd03dbf0>]"
      ]
     },
     "execution_count": 41,
     "metadata": {},
     "output_type": "execute_result"
    },
    {
     "data": {
      "image/png": "[encoded data removed]",
      "text/plain": [
       "<Figure size 432x288 with 1 Axes>"
      ]
     },
     "metadata": {},
     "output_type": "display_data"
    }
   ],
   "source": [
    "plt.figure()\n",
    "plt.plot(gpp_ind_scaled, c='blue')\n",
    "plt.plot(sif_ind_scaled, c='red')"
   ]
  },
  {
   "cell_type": "markdown",
   "metadata": {},
   "source": [
    "Indeed, it looks like we have a great correlation between SIF and GPP! You could also plot a scatter plot between the GPP and SIF at this point and you would see a better correlation than when all the terrestrial points are included.\n",
    "\n",
    "*What are some other ways we can deal with missing values?*\n",
    "\n",
    "Pandas has neat and elegant methods for dealing with NaNs. We can import pandas, save SIF to a dataframe with masked values filled as NaNs like this:\n",
    "\n",
    "**import pandas as pd**\n",
    "\n",
    "**sif_df = pd.DataFrame({'SIF': np.ma.filled(sif_data[:,26,48], np.nan)})**\n",
    "\n",
    "As you may remember from the DataCamp tutorial on Dictionaries and Pandas, this is a quick way of creating a pandas dataframe using {} to create a dictionary with a key of \"SIF\" and the \"value\" is the array of data. The key \"SIF\" then becomes the column header for the SIF data column. We then feed this dictionary into pd.DataFrame() to create the data frame.\n",
    "\n",
    "One pandas method we can use to retrieve the indices of our data that are NaNs using the method \"isnull()\".\n",
    "\n",
    "**null_index = sif_df['SIF'].isnull()**\n",
    "\n",
    "Then we can repeat our sklearn minmax_scale() method using the sif_df with null indices removed, like this:\n",
    "\n",
    "**sif_ind_scaled = minmax_scale(sif_df.loc[~null_index, ['SIF']])**  \n",
    "Note! Other versions of pandas might require: **sif_ind_scaled = minmax_scale(sif_df.loc[~null_index, ['SIF']])** i.e. with no [ ] around 'SIF'.\n",
    "\n",
    "The ~null_index in the [ ] using the pandas method df.loc means \"take all indices *except* these indices (specified in null_index)\".\n",
    "\n",
    "Type these commands in the box below and print out the result of each line."
   ]
  },
  {
   "cell_type": "code",
   "execution_count": 42,
   "metadata": {},
   "outputs": [],
   "source": [
    "# type your commands here"
   ]
  },
  {
   "cell_type": "code",
   "execution_count": 43,
   "metadata": {},
   "outputs": [
    {
     "name": "stdout",
     "output_type": "stream",
     "text": [
      "         SIF\n",
      "0   0.370277\n",
      "1   0.198155\n",
      "2   0.411677\n",
      "3   1.035319\n",
      "4   3.686495\n",
      "5   3.832725\n",
      "6   3.447865\n",
      "7   3.044667\n",
      "8   2.540574\n",
      "9   1.786564\n",
      "10  0.565024\n",
      "11  0.189420\n",
      "12  0.236398\n",
      "13       NaN\n",
      "14  0.384394\n",
      "15  0.875119\n",
      "16  3.474569\n",
      "17  3.578318\n",
      "18  3.387481\n",
      "19  2.911591\n",
      "20  2.863899\n",
      "21  1.536220\n",
      "22  0.377090\n",
      "23  0.218280\n",
      "24  0.102537\n",
      "25  0.217799\n",
      "26  0.427561\n",
      "27  1.116502\n",
      "28  2.744660\n",
      "29  3.240486\n",
      "30  3.468967\n",
      "31  2.918090\n",
      "32  2.357997\n",
      "33  1.521665\n",
      "34  0.318620\n",
      "35  0.134275\n",
      "36  0.060836\n",
      "37       NaN\n",
      "38  0.390389\n",
      "39  1.210980\n",
      "40  3.643070\n",
      "41  3.150802\n",
      "42  3.055926\n",
      "43  2.829094\n",
      "44  2.280408\n",
      "45  1.276211\n",
      "46  0.312530\n",
      "47  0.120792\n",
      "48  0.037061\n",
      "49  0.062690\n",
      "50  0.519965\n",
      "51  0.948801\n",
      "52  3.641749\n",
      "53  3.472425\n",
      "54  3.006210\n",
      "55  3.048799\n",
      "56  2.072136\n",
      "57  1.213682\n",
      "58  0.364245\n",
      "59  0.219512\n",
      "0     False\n",
      "1     False\n",
      "2     False\n",
      "3     False\n",
      "4     False\n",
      "5     False\n",
      "6     False\n",
      "7     False\n",
      "8     False\n",
      "9     False\n",
      "10    False\n",
      "11    False\n",
      "12    False\n",
      "13     True\n",
      "14    False\n",
      "15    False\n",
      "16    False\n",
      "17    False\n",
      "18    False\n",
      "19    False\n",
      "20    False\n",
      "21    False\n",
      "22    False\n",
      "23    False\n",
      "24    False\n",
      "25    False\n",
      "26    False\n",
      "27    False\n",
      "28    False\n",
      "29    False\n",
      "30    False\n",
      "31    False\n",
      "32    False\n",
      "33    False\n",
      "34    False\n",
      "35    False\n",
      "36    False\n",
      "37     True\n",
      "38    False\n",
      "39    False\n",
      "40    False\n",
      "41    False\n",
      "42    False\n",
      "43    False\n",
      "44    False\n",
      "45    False\n",
      "46    False\n",
      "47    False\n",
      "48    False\n",
      "49    False\n",
      "50    False\n",
      "51    False\n",
      "52    False\n",
      "53    False\n",
      "54    False\n",
      "55    False\n",
      "56    False\n",
      "57    False\n",
      "58    False\n",
      "59    False\n",
      "Name: SIF, dtype: bool\n",
      "[[0.08778836]\n",
      " [0.0424416 ]\n",
      " [0.09869556]\n",
      " [0.2629996 ]\n",
      " [0.9614744 ]\n",
      " [1.        ]\n",
      " [0.8986054 ]\n",
      " [0.7923795 ]\n",
      " [0.65957179]\n",
      " [0.46092127]\n",
      " [0.13909638]\n",
      " [0.04014019]\n",
      " [0.05251697]\n",
      " [0.09150764]\n",
      " [0.22079332]\n",
      " [0.90564081]\n",
      " [0.93297438]\n",
      " [0.88269665]\n",
      " [0.75731944]\n",
      " [0.7447545 ]\n",
      " [0.39496618]\n",
      " [0.08958351]\n",
      " [0.04774359]\n",
      " [0.01725009]\n",
      " [0.04761683]\n",
      " [0.10288039]\n",
      " [0.28438776]\n",
      " [0.71334007]\n",
      " [0.84396948]\n",
      " [0.90416483]\n",
      " [0.75903155]\n",
      " [0.61147041]\n",
      " [0.39113136]\n",
      " [0.07417896]\n",
      " [0.02561163]\n",
      " [0.00626367]\n",
      " [0.0930872 ]\n",
      " [0.30927898]\n",
      " [0.95003382]\n",
      " [0.82034146]\n",
      " [0.79534568]\n",
      " [0.73558481]\n",
      " [0.59102885]\n",
      " [0.32646461]\n",
      " [0.07257462]\n",
      " [0.02205944]\n",
      " [0.        ]\n",
      " [0.00675213]\n",
      " [0.12722507]\n",
      " [0.24020548]\n",
      " [0.9496857 ]\n",
      " [0.90507575]\n",
      " [0.78224751]\n",
      " [0.793468  ]\n",
      " [0.53615776]\n",
      " [0.30999075]\n",
      " [0.08619919]\n",
      " [0.04806819]]\n"
     ]
    }
   ],
   "source": [
    "import pandas as pd\n",
    "\n",
    "sif_df = pd.DataFrame({'SIF': np.ma.filled(sif_data[:,26,48], np.nan)})\n",
    "null_index = sif_df['SIF'].isnull()\n",
    "sif_ind_scaled = minmax_scale(sif_df.loc[~null_index, ['SIF']]) # - minmax_scale(sif_df.loc[~null_index, 'SIF']) should also work depending on versions.\n",
    "\n",
    "print (sif_df)\n",
    "print (null_index)\n",
    "print (sif_ind_scaled)"
   ]
  },
  {
   "cell_type": "markdown",
   "metadata": {},
   "source": [
    "Again, repeat your plotting code from above to see if you get the same result:"
   ]
  },
  {
   "cell_type": "code",
   "execution_count": 44,
   "metadata": {},
   "outputs": [],
   "source": [
    "# type your commands here"
   ]
  },
  {
   "cell_type": "code",
   "execution_count": 45,
   "metadata": {},
   "outputs": [
    {
     "data": {
      "text/plain": [
       "[<matplotlib.lines.Line2D at 0xe22d770>]"
      ]
     },
     "execution_count": 45,
     "metadata": {},
     "output_type": "execute_result"
    },
    {
     "data": {
      "image/png": "[encoded data removed]",
      "text/plain": [
       "<Figure size 432x288 with 1 Axes>"
      ]
     },
     "metadata": {},
     "output_type": "display_data"
    }
   ],
   "source": [
    "plt.figure()\n",
    "plt.plot(gpp_ind_scaled, c='blue')\n",
    "plt.plot(sif_ind_scaled, c='red')"
   ]
  },
  {
   "cell_type": "markdown",
   "metadata": {},
   "source": [
    "- *Look carefully, is the plot the same as before? If not, how are they different and why is this the case?* Write your answer below:\n",
    "\n",
    "[Hint: print the length of the gpp_ind_scaled and the sif_ind_scaled - why are they not the same?]"
   ]
  },
  {
   "cell_type": "code",
   "execution_count": 46,
   "metadata": {},
   "outputs": [],
   "source": [
    "# type your commands here"
   ]
  },
  {
   "cell_type": "code",
   "execution_count": 47,
   "metadata": {},
   "outputs": [
    {
     "name": "stdout",
     "output_type": "stream",
     "text": [
      "60 58\n"
     ]
    }
   ],
   "source": [
    "print (len(gpp_ind_scaled), len(sif_ind_scaled))"
   ]
  },
  {
   "cell_type": "markdown",
   "metadata": {},
   "source": [
    "The solution to this is that although all the values of GPP are present, because of two of the SIF values are missing we have to remove the equivalent values of GPP if we want to perform an actual statistical analysis that will compare point by point.\n",
    "\n",
    "As we have seen, pandas has useful methods to provide an elegant solution to dealing with NaNs. If we create a pandas dataframe for GPP we can use the same null_index indices that show us where the missing SIF points are to also remove the equivalent GPP pixels. Can you think how to do that? Create a pandas dataframe for the GPP data in the box below, re-scale the GPP data by excluding the **SIF** missing data points, then re-plot the graph one more time."
   ]
  },
  {
   "cell_type": "code",
   "execution_count": 48,
   "metadata": {},
   "outputs": [],
   "source": [
    "# type your commands here"
   ]
  },
  {
   "cell_type": "code",
   "execution_count": 49,
   "metadata": {},
   "outputs": [
    {
     "data": {
      "text/plain": [
       "[<matplotlib.lines.Line2D at 0xe26d110>]"
      ]
     },
     "execution_count": 49,
     "metadata": {},
     "output_type": "execute_result"
    },
    {
     "data": {
      "image/png": "[encoded data removed]",
      "text/plain": [
       "<Figure size 432x288 with 1 Axes>"
      ]
     },
     "metadata": {},
     "output_type": "display_data"
    }
   ],
   "source": [
    "gpp_df = pd.DataFrame({'GPP': np.ma.filled(gpp_data[:,26,48], np.nan)})\n",
    "gpp_ind_scaled = minmax_scale(gpp_df.loc[~null_index, ['GPP']])\n",
    "plt.figure()\n",
    "plt.plot(gpp_ind_scaled, c='blue')\n",
    "plt.plot(sif_ind_scaled, c='red')"
   ]
  },
  {
   "cell_type": "markdown",
   "metadata": {},
   "source": [
    "Hooray, the curves now line up better again with two points remove that correspond to the indices of the missing SIF data. Be sure you understand the differences between these three red and blue timeseries plots.\n",
    "\n",
    "Another way to deal with missing data is to \"gap-fill\". For example, the SIF data only had two missing points. It would have been easy to simply fill these points by taking an average of the two adjacent points before and after. We learned how to do this in the DataCamp pandas tutorial. However, if you have large chunks of data missing then this can be a trickier issue. \n",
    "\n",
    "*Note that if we were actually plotting a timeseries of data to show in a publication (with a proper date on the x-axis) we would not want to simply remove those missing data points as we have done in that final graph. For plotting time series we would show the missing data points by filling them with np.nans (that matplotlib would ignore). But if we want to perform statistical analyses, and you don't want to gap-fill the data, the pandas methods above can remove these points before we calculate a correlation.*"
   ]
  },
  {
   "cell_type": "markdown",
   "metadata": {},
   "source": [
    "### 3. Quick statistical analysis of the relationship between GPP and SIF using the SciPy library\n",
    "\n",
    "We can use the SciPy (the scientific computing tools for Python package - https://www.scipy.org) statistical functions to calculate the pearson correlation coefficient (https://docs.scipy.org/doc/scipy/reference/generated/scipy.stats.pearsonr.html). We will learn more about Scipy in the last part of the semester.\n",
    "\n",
    "You will need to import the scipy pearsonr package in the box below using the code:\n",
    "\n",
    "**from scipy.stats import pearsonr**\n",
    "\n",
    "Then calculate the pearson correlation coefficient between the scaled GPP and SIF data for the Indiana pixel using the following:\n",
    "\n",
    "**correlation, pvalue = pearsonr(gpp_ind_scaled, sif_ind_scaled)**\n",
    "\n",
    "Note that the pearsonr method gives both the correlation and its associated pvalue. Right now we're only interested in the correlation.\n",
    "\n",
    "Type your code in the box below and print the correlation. Is it what you expected based on your plots above?"
   ]
  },
  {
   "cell_type": "code",
   "execution_count": 50,
   "metadata": {},
   "outputs": [],
   "source": [
    "# type your commands here"
   ]
  },
  {
   "cell_type": "code",
   "execution_count": 51,
   "metadata": {},
   "outputs": [
    {
     "name": "stdout",
     "output_type": "stream",
     "text": [
      "[0.95009834]\n"
     ]
    }
   ],
   "source": [
    "from scipy.stats import pearsonr\n",
    "correlation, pvalue = pearsonr(gpp_ind_scaled, sif_ind_scaled)\n",
    "print (correlation)"
   ]
  },
  {
   "cell_type": "markdown",
   "metadata": {},
   "source": [
    "There are many more useful statistical analyses we can do with scipy that we won't cover now. A similar SciPy method for calculating the correlation and p-value, while also getting the slope and intercept of the linear regression, is scipy.stats.linregress: https://docs.scipy.org/doc/scipy/reference/generated/scipy.stats.linregress.html\n",
    "\n",
    "Unfortunately, most of these SciPy methods only deal with 1d arrays; therefore, if we want to compute the corelations for the whole globe we would have to loop over all the land pixels. We will think about this in the last part of the semester.\n",
    "\n",
    "**That's it, you're done for today! Save this Jupyter Notebook and upload it to Canvas by 1pm Monday 21st October.**"
   ]
  },
  {
   "cell_type": "code",
   "execution_count": null,
   "metadata": {},
   "outputs": [],
   "source": []
  }
 ],
 "metadata": {
  "kernelspec": {
   "display_name": "Python 2",
   "language": "python",
   "name": "python2"
  },
  "language_info": {
   "codemirror_mode": {
    "name": "ipython",
    "version": 2
   },
   "file_extension": ".py",
   "mimetype": "text/x-python",
   "name": "python",
   "nbconvert_exporter": "python",
   "pygments_lexer": "ipython2",
   "version": "2.7.15"
  }
 },
 "nbformat": 4,
 "nbformat_minor": 2
}
