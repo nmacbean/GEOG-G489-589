{
 "cells": [
  {
   "cell_type": "code",
   "execution_count": 1,
   "metadata": {},
   "outputs": [],
   "source": [
    "# - import numpy\n",
    "import numpy as np"
   ]
  },
  {
   "cell_type": "code",
   "execution_count": 2,
   "metadata": {},
   "outputs": [],
   "source": [
    "# - set-up filepath and filename\n",
    "filename = '../data/height_weight/heights_weights.dat'"
   ]
  },
  {
   "cell_type": "code",
   "execution_count": 11,
   "metadata": {},
   "outputs": [
    {
     "name": "stdout",
     "output_type": "stream",
     "text": [
      "[[ 1.64 63.4 ]\n",
      " [ 1.83 77.2 ]\n",
      " [ 1.75 68.6 ]\n",
      " [ 1.55 56.5 ]\n",
      " [ 1.81 84.1 ]\n",
      " [ 1.69 88.8 ]\n",
      " [ 1.71 76.4 ]\n",
      " [ 1.88 81.9 ]\n",
      " [ 1.77 69.3 ]\n",
      " [ 1.65 72.7 ]]\n"
     ]
    }
   ],
   "source": [
    "# - open data file\n",
    "data = np.loadtxt(filename)\n",
    "print(data)"
   ]
  },
  {
   "cell_type": "code",
   "execution_count": 4,
   "metadata": {},
   "outputs": [
    {
     "name": "stdout",
     "output_type": "stream",
     "text": [
      "1.7279999999999998\n"
     ]
    }
   ],
   "source": [
    "# - print mean height for all 10 people\n",
    "print(np.mean(data[:,0]))"
   ]
  },
  {
   "cell_type": "code",
   "execution_count": 5,
   "metadata": {},
   "outputs": [
    {
     "name": "stdout",
     "output_type": "stream",
     "text": [
      "73.89\n"
     ]
    }
   ],
   "source": [
    "# - print mean weight for all 10 people\n",
    "print(np.mean(data[:,1]))"
   ]
  },
  {
   "cell_type": "code",
   "execution_count": 6,
   "metadata": {},
   "outputs": [
    {
     "name": "stdout",
     "output_type": "stream",
     "text": [
      "[ 1.728 73.89 ]\n"
     ]
    }
   ],
   "source": [
    "# - OR to get both mean height and weight for all 10 people --> we will learn this later\n",
    "print(np.mean(data, axis=0))"
   ]
  },
  {
   "cell_type": "code",
   "execution_count": 9,
   "metadata": {},
   "outputs": [
    {
     "name": "stdout",
     "output_type": "stream",
     "text": [
      "('4th person height and weight: ', array([ 1.55, 56.5 ]))\n"
     ]
    }
   ],
   "source": [
    "# - get height and weight for 4th person \n",
    "person4_size = data[3,:]\n",
    "print('4th person height and weight: ', person4_size)"
   ]
  },
  {
   "cell_type": "code",
   "execution_count": 10,
   "metadata": {},
   "outputs": [],
   "source": [
    "# - save the size information for the 4th person\n",
    "np.savetxt('4thperson_size.dat', person4_size)"
   ]
  },
  {
   "cell_type": "markdown",
   "metadata": {},
   "source": [
    "EXTRA if you are familiar with Python"
   ]
  },
  {
   "cell_type": "code",
   "execution_count": 20,
   "metadata": {},
   "outputs": [
    {
     "name": "stdout",
     "output_type": "stream",
     "text": [
      "[[ 1.64 63.4 ]\n",
      " [ 1.83 77.2 ]\n",
      " [ 1.75 68.6 ]\n",
      " [ 1.55 56.5 ]\n",
      " [ 1.81 84.1 ]\n",
      " [ 1.69 88.8 ]\n",
      " [ 1.71 76.4 ]\n",
      " [ 1.88 81.9 ]\n",
      " [ 1.77 69.3 ]\n",
      " [ 1.65 72.7 ]]\n",
      "[3 0 9 5 6 2 8 4 1 7]\n",
      "[[ 1.55 56.5 ]\n",
      " [ 1.64 63.4 ]\n",
      " [ 1.65 72.7 ]\n",
      " [ 1.69 88.8 ]\n",
      " [ 1.71 76.4 ]\n",
      " [ 1.75 68.6 ]\n",
      " [ 1.77 69.3 ]\n",
      " [ 1.81 84.1 ]\n",
      " [ 1.83 77.2 ]\n",
      " [ 1.88 81.9 ]]\n"
     ]
    }
   ],
   "source": [
    "# -\n",
    "# - sort heights and weights based on height\n",
    "# -\n",
    "\n",
    "# - print original data\n",
    "print(data)\n",
    "\n",
    "# - get indices for sorted heights using np.argsort() and print\n",
    "height_sort = np.argsort(data[:,0])\n",
    "print(height_sort)\n",
    "\n",
    "# - now print the data with rows ordered by sorted heights\n",
    "print(data[height_sort,:])"
   ]
  },
  {
   "cell_type": "code",
   "execution_count": null,
   "metadata": {},
   "outputs": [],
   "source": []
  }
 ],
 "metadata": {
  "kernelspec": {
   "display_name": "Python 2",
   "language": "python",
   "name": "python2"
  },
  "language_info": {
   "codemirror_mode": {
    "name": "ipython",
    "version": 2
   },
   "file_extension": ".py",
   "mimetype": "text/x-python",
   "name": "python",
   "nbconvert_exporter": "python",
   "pygments_lexer": "ipython2",
   "version": "2.7.15"
  }
 },
 "nbformat": 4,
 "nbformat_minor": 2
}
