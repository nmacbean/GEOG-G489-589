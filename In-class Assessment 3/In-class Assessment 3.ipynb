{
 "cells": [
  {
   "cell_type": "markdown",
   "metadata": {},
   "source": [
    "## G489/589 Advanced Geospatial Data Analysis in Python: In-class Assessment 3\n",
    "**Indiana University  \n",
    "Spring 2019  \n",
    "Dr. Natasha MacBean**"
   ]
  },
  {
   "cell_type": "markdown",
   "metadata": {},
   "source": [
    "### Part 1 (Question and Answer Section - 20 points)\n",
    "Double click on each markdown box to write the answer."
   ]
  },
  {
   "cell_type": "markdown",
   "metadata": {},
   "source": [
    "1. You have two variables: a = 10 and b = 20. Write an **if** statement to check if b is greater than or equal to a, and prints \"ok\" if that statement is true, **else** if the statement is not true, it prints \"not ok\". **[1 point]**\n",
    "\n",
    "ANSWER:    "
   ]
  },
  {
   "cell_type": "markdown",
   "metadata": {},
   "source": [
    "2. What is the numpy function for calculating a mean over a *masked* array? **[1 point]**\n",
    "\n",
    "ANSWER: "
   ]
  },
  {
   "cell_type": "markdown",
   "metadata": {},
   "source": [
    "3. Which numpy function would you use to check the sizes of all dimensions of an array? **[1 point]**\n",
    "\n",
    "ANSWER: "
   ]
  },
  {
   "cell_type": "markdown",
   "metadata": {},
   "source": [
    "4. You have a numerical 3-dimensional array of floats called \"data\", which consists of the dimensions (ntsteps, nrows, ncols), where ntsteps is the number of timesteps, and nrows/ncols are the number of rows/columns. Write the numpy function you would use to calculate the standard deviation over the timestep dimension. **[1 point]**\n",
    "\n",
    "ANSWERR:"
   ]
  },
  {
   "cell_type": "markdown",
   "metadata": {},
   "source": [
    "5. You have a 1-dimensional numerical array of length 200. What numpy function would you use to convert this array into a 2-dimensional array with 100 rows and 2 columns? (*For now do not worry about the order that it is filling out the rows and columns)*. **[1 point]**\n",
    "\n",
    "ANSWER: "
   ]
  },
  {
   "cell_type": "markdown",
   "metadata": {},
   "source": [
    "6. What python or numpy function would you use to create a numerical array that started with the number 1 and ended with the number 10 (with a step of 1 for each number)? **[1 point]**\n",
    "\n",
    "ANSWER:  "
   ]
  },
  {
   "cell_type": "markdown",
   "metadata": {},
   "source": [
    "7. You have a variable \"filelist\" that constains a list of all the .csv files you have in a given directory. Which python method would you use to check how many .csv files there are in your filelist? **[1 point]**\n",
    "\n",
    "ANSWER: "
   ]
  },
  {
   "cell_type": "markdown",
   "metadata": {},
   "source": [
    "8. You know that each of the .csv files in your filelist has the format \"site_name.csv\" (where \"site_name\" is the name of each site in the list). Write a loop that loops over the filelist and extracts the **site name for each site** into a new list called \"sites\" using the method string.split **[2 points]**\n",
    "\n",
    "ANSWER:   "
   ]
  },
  {
   "cell_type": "markdown",
   "metadata": {},
   "source": [
    "9. Write out both the steps needed, and the code you would use, to perform a KMeans clustering algorithm to a set of data that contains 200 observations (nsamples or nrows) and 5 features (nfeatures or ncols). Create 2 clusters and save your resultant cluster labels to an array called \"labels2\".  Your input data are in a numerical floating point arrray in a file called \"data.txt\". There are no column headings in the data.txt file. Describe the steps you would take to complete this task from the beginning, including importing the library and reading in the data etc. For each step also write the code you would need. *Note: Do not execute the code, just write down the steps you would take and the syntax of code you would use.* **[10 points]**\n",
    "\n",
    "ANSWER: \n"
   ]
  },
  {
   "cell_type": "markdown",
   "metadata": {},
   "source": [
    "10. Following on from the previous question, what would the length of the final array \"labels2\" be? **[1 point]**\n",
    "\n",
    "ANSWER:"
   ]
  },
  {
   "cell_type": "markdown",
   "metadata": {},
   "source": [
    "### Part 2 (Writing Code - 30 points)"
   ]
  },
  {
   "cell_type": "markdown",
   "metadata": {},
   "source": [
    "In this exercise we'll be working with flux data from the Santa Rita site between 2009 and 2014. The file \"FLUXNET_US-SRG_Daily_ET_Met_2009-2014.csv\" contains ET data (evapotranspiration - which is both evaporation of water from bare surfaces and transpiration of moisture from plants) as well as four meteorological variables: TAir (air temperature), Precip, VPD (vapor pressure deficit) and PA (surface air pressure).\n",
    "\n",
    "The objective of this exericse is to work out which meteorological variable explains most of the variance in ET. I.e. the task is to calculate the R$^{2}$ (r-squared) value - i.e. the square of the correlation - between ET and each of the 4 different meteorological variables and then print out the values to see which one is highest.\n",
    "\n",
    "First you will need to calculate the correlation using any of the following methods, inlcuding:\n",
    "\n",
    "- np.corrcoef()\n",
    "- scipy.stats.pearsonr (see Exercise 11)\n",
    "- or any of the linear regression methods we learned (Exericses 12 and 13)\n",
    "\n",
    "*Note: Beware of which linear regression methods give you R, and which directly give you R$^{2}$. If you calculate the correlation coefficient you then need to square the values to get the R$^{2}$.*\n",
    "\n",
    "You will get the most marks for making your code as clean and efficient as possible. For example, your code will be \"cleaner\" if you use a for loop to loop over the meteorological variables and perform the calculation within the loop."
   ]
  },
  {
   "cell_type": "markdown",
   "metadata": {},
   "source": [
    "**First, in the markdown box below write your logic in normal/plain english to explain the steps you will need to complete this exercise. Think of this as a plan for your script. [5 points out of 30]**"
   ]
  },
  {
   "cell_type": "markdown",
   "metadata": {},
   "source": [
    "**LOGIC FOR YOUR CODE:** \n"
   ]
  },
  {
   "cell_type": "markdown",
   "metadata": {},
   "source": [
    "**Now in the code boxes below write the actual python script you need to complete this excercise. [20 points out of 30]** \n",
    "\n",
    "- Do not forget to comment your code **[3 points out of 30]**! (I have given you a head start in the box below).\n",
    "\n",
    "*NOTE! After you complete the coding task, answer the final question in the markdown below based on your calculations **[2 points out of 30]**.*"
   ]
  },
  {
   "cell_type": "code",
   "execution_count": null,
   "metadata": {},
   "outputs": [],
   "source": [
    "# - import libraries\n"
   ]
  },
  {
   "cell_type": "markdown",
   "metadata": {},
   "source": [
    "**FINAL QUESTION:**\n",
    "\n",
    "1) Based on the r-squared (R$^{2}$) value, which meteorological variable explains most of the variability in ET?\n",
    "\n",
    "ANSWER: "
   ]
  },
  {
   "cell_type": "markdown",
   "metadata": {},
   "source": [
    "### Remember to save your answers and upload them to Canvas by the end of the class. CHECK you have uploaded the right Jupyter Notebook to Canvas. EMAIL yourself a copy of the Jupyter Notebook (or save it to usb) in case something goes wrong with the Canvas submission."
   ]
  },
  {
   "cell_type": "code",
   "execution_count": null,
   "metadata": {},
   "outputs": [],
   "source": []
  }
 ],
 "metadata": {
  "kernelspec": {
   "display_name": "Python 2",
   "language": "python",
   "name": "python2"
  },
  "language_info": {
   "codemirror_mode": {
    "name": "ipython",
    "version": 2
   },
   "file_extension": ".py",
   "mimetype": "text/x-python",
   "name": "python",
   "nbconvert_exporter": "python",
   "pygments_lexer": "ipython2",
   "version": "2.7.15"
  }
 },
 "nbformat": 4,
 "nbformat_minor": 2
}
