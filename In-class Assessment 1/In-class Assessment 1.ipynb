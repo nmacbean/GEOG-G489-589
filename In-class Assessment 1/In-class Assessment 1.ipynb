{
 "cells": [
  {
   "cell_type": "markdown",
   "metadata": {},
   "source": [
    "## G489/589 Advanced Geospatial Data Analysis in Python: In-class Assessment 1\n",
    "**Indiana University  \n",
    "Spring 2019  \n",
    "Dr. Natasha MacBean**"
   ]
  },
  {
   "cell_type": "markdown",
   "metadata": {},
   "source": [
    "### Part 1 (Question and Answer Section - 10 points)\n",
    "Double click on each markdown box to be able to write the answer."
   ]
  },
  {
   "cell_type": "markdown",
   "metadata": {},
   "source": [
    "1. What type of brackets do we use for indexing arrays in Python?\n",
    "\n",
    "ANSWER:"
   ]
  },
  {
   "cell_type": "markdown",
   "metadata": {},
   "source": [
    "2. What type of brackets do we use for functions in Python?\n",
    "\n",
    "ANSWER:"
   ]
  },
  {
   "cell_type": "markdown",
   "metadata": {},
   "source": [
    "3. You have a numpy array containing the height and weight for 10 people, with height in the 1st column and weight in the 2nd column and each row corresponding to a different person. What is the index you would use to get the weight of the 7th person?\n",
    "\n",
    "ANSWER:"
   ]
  },
  {
   "cell_type": "markdown",
   "metadata": {},
   "source": [
    "4. You have a variable: d = 1089.74  \n",
    "What is the data type of d?\n",
    "\n",
    "ANSWER:"
   ]
  },
  {
   "cell_type": "markdown",
   "metadata": {},
   "source": [
    "5. Which numpy function would you use to convert a list into an array?\n",
    "\n",
    "ANSWER:"
   ]
  },
  {
   "cell_type": "markdown",
   "metadata": {},
   "source": [
    "6. What built-in python function would you use to work out how many elements were in a list?\n",
    "\n",
    "ANSWER:"
   ]
  },
  {
   "cell_type": "markdown",
   "metadata": {},
   "source": [
    "7. What index would you use to get the *second to last* element of a list or 1d array?\n",
    "\n",
    "ANSWER:"
   ]
  },
  {
   "cell_type": "markdown",
   "metadata": {},
   "source": [
    "8. You have a pandas dataframe called \"countries\" containing the following column headers: \"Country\", \"Population\", \"GDP\", \"Area\", \"CO2 emissions\".  \n",
    "Write down two ways that you can select the column \"Area\" from the countries dataframe.\n",
    "\n",
    "ANSWER:"
   ]
  },
  {
   "cell_type": "markdown",
   "metadata": {},
   "source": [
    "9. What is the numpy function for reading in an array of floating point data from a .txt or .dat file?\n",
    "\n",
    "ANSWER:"
   ]
  },
  {
   "cell_type": "markdown",
   "metadata": {},
   "source": [
    "10. Now alter the numpy function for reading in an array that you gave in the previous answer to include the optional argument you need if you were to read in a file containing strings.\n",
    "\n",
    "ANSWER:"
   ]
  },
  {
   "cell_type": "markdown",
   "metadata": {},
   "source": [
    "### Part 2 (Writing code - 40 points)\n"
   ]
  },
  {
   "cell_type": "markdown",
   "metadata": {},
   "source": [
    "In this exercise we're going to examine meteorological data from 4 Ameriflux sites. Two are the same as the sites you've looked at already in class (US-Srg and US-Srm) and two are new (US-Ton and US-Var).\n",
    "\n",
    "* US-Srg and US-Var are grass-dominated sites in southern Arizona and central California, respectively.\n",
    "\n",
    "* US-Srm and US-Ton are shrub-dominated sites in southern Arizona and central California, respectively.\n",
    "\n",
    "The data files for the four sites are contained in the data.zip attachment on Canvas or on the course GitHub page.\n",
    "\n",
    "The files contain the same columns that you have seen in the last two exercises in class: TIMESTAMP, TA, TA_NIGHT, TA_NIGHT_SD, TA_DAY, TA_DAY_SD, SW_IN, LW_IN, VPD, PA, P, WS\n",
    "\n",
    "**Write a script that loops over all the sites and plots a scatter plot between the VPD and P variables [25 points out of 40]**.\n",
    "\n",
    "Give any plots you create x- and y-axis labels and a title. And don't forget to close the plot between each iteration of the loop.\n",
    "\n",
    "Using this analysis, answer the following scientific questions **[5 points out of 40]**:\n",
    "\n",
    "1. What is the relationship between vapor pressure deficit (VPD) and precipitation (P) at each site? (I.e. what happens to VPD when P increases?)\n",
    "\n",
    "2. Does this relationship between VPD and P differ between the California sites and the Arizona sites?\n",
    "\n",
    "First, in the markdown box below write your logic in normal/plain english to explain the steps you will need to complete this exercise. Think of this as a plan for your script. **[5 points out of 40]**"
   ]
  },
  {
   "cell_type": "markdown",
   "metadata": {},
   "source": [
    "**LOGIC FOR YOUR CODE:**"
   ]
  },
  {
   "cell_type": "markdown",
   "metadata": {},
   "source": [
    "**Now in the code boxes below write the actual python script you need to complete this excercise.** \n",
    "\n",
    "- Think about the libraries we have learned aboout recently - including pandas and matplotlib - for reading tabular data into python and plotting, and also think about the code we have learned for looping over different files and executing the same commands for each file. \n",
    "\n",
    "- Also don't forget to import all the necessary libraries that you will need at the beginning. \n",
    "\n",
    "- Finally, do not forget to comment your code **[5 points out of 40]**! (I have given you a head start in the box below).\n",
    "\n",
    "- Once you have finished writing your code, answer the two questions above based on the analysis you have completed. For the last question you will need to compare the plots you have created for each site based on the information I have given you about the sites. \n",
    "\n",
    "**When you have finished, upload your completed Jupyter Notebook to the Canvas Course page by 2:15pm**\n"
   ]
  },
  {
   "cell_type": "code",
   "execution_count": null,
   "metadata": {},
   "outputs": [],
   "source": [
    "# - import libraries"
   ]
  }
 ],
 "metadata": {
  "kernelspec": {
   "display_name": "Python 2",
   "language": "python",
   "name": "python2"
  },
  "language_info": {
   "codemirror_mode": {
    "name": "ipython",
    "version": 2
   },
   "file_extension": ".py",
   "mimetype": "text/x-python",
   "name": "python",
   "nbconvert_exporter": "python",
   "pygments_lexer": "ipython2",
   "version": "2.7.15"
  }
 },
 "nbformat": 4,
 "nbformat_minor": 2
}
