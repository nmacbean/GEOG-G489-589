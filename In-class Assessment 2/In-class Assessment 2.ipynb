{
 "cells": [
  {
   "cell_type": "markdown",
   "metadata": {},
   "source": [
    "## G489/589 Advanced Geospatial Data Analysis in Python: In-class Assessment 2\n",
    "**Indiana University  \n",
    "Spring 2019  \n",
    "Dr. Natasha MacBean**"
   ]
  },
  {
   "cell_type": "markdown",
   "metadata": {},
   "source": [
    "### Part 1 (Question and Answer Section - 10 points)\n",
    "Double click on each markdown box to write the answer."
   ]
  },
  {
   "cell_type": "markdown",
   "metadata": {},
   "source": [
    "1. What python library do we use for plotting maps with geographic coordinates? **[1 point]**\n",
    "\n",
    "ANSWER:"
   ]
  },
  {
   "cell_type": "markdown",
   "metadata": {},
   "source": [
    "2. What string method do we use for separating strings, for example if we wanted to separate this string based on the underscore (\"\\_\"): 'US-SRM_daily_2004-2018.csv'? **[1 point]**\n",
    "\n",
    "ANSWER: "
   ]
  },
  {
   "cell_type": "markdown",
   "metadata": {},
   "source": [
    "3. What does the keyword \"hue\" allow you to do in a seaborn scatterplot? **[1 point]**\n",
    "\n",
    "ANSWER: "
   ]
  },
  {
   "cell_type": "markdown",
   "metadata": {},
   "source": [
    "4. What matplotlib function can we use for plotting images? **[1 point]**\n",
    "\n",
    "ANSWER: "
   ]
  },
  {
   "cell_type": "markdown",
   "metadata": {},
   "source": [
    "5. Write the netCDF4 library command you need to *open* a netcdf file before reading the data. **[1 point]**\n",
    "\n",
    "ANSWER: "
   ]
  },
  {
   "cell_type": "markdown",
   "metadata": {},
   "source": [
    "6. Write down the steps and GDAL functions you need to open an HDF file, find out the name of all the subdatasets, and then read in the data from a specific sub dataset contained in that HDF file. **[5 points]**\n",
    "\n",
    "ANSWER: "
   ]
  },
  {
   "cell_type": "markdown",
   "metadata": {},
   "source": [
    "### Part 2 (Writing Code - 40 points)\n"
   ]
  },
  {
   "cell_type": "markdown",
   "metadata": {},
   "source": [
    "For this part of the in-class assessment there are 5 points for detailing the logic (steps) of your code, 25 points for the actual script, 5 points for how well your code is commented, and 5 points for answering the final questions.\n",
    "\n",
    "*In this exercise we'll be working again with the monthly global GPP data from 2007 to 2011 that are stored in the netcdf file \"orch_gpp_monthly_2007-2011.nc\". Remember the data have three dimensions (time, lat, lon).*\n",
    "\n",
    "In Exercise 8, we looped over the first 12 months of the GPP dataset to plot the global GPP for each month.\n",
    "\n",
    "In this exercise, you're going to loop over the first 12 months and **calculate the global total GPP** - i.e. the total across all latitudes and longitudes. [Hint: think how to use array indexing to select all the latitudes and longitudes]. This will result in one global total for each month.  \n",
    "Within the loop you will **save the global total GPP for each month to a new array** (much like we saved the precipitation total for each site across Arizona).  \n",
    "Next, you will **plot the global totals over those 12 months** using either a matplotlib plot or seaborn lineplot.  \n",
    "Finally, you will save the plot."
   ]
  },
  {
   "cell_type": "markdown",
   "metadata": {},
   "source": [
    "**First, in the markdown box below write your logic in normal/plain english to explain the steps you will need to complete this exercise. Think of this as a plan for your script. [5 points out of 40]**"
   ]
  },
  {
   "cell_type": "markdown",
   "metadata": {},
   "source": [
    "**LOGIC FOR YOUR CODE:**  \n",
    "  \n",
    "    \n",
    "    \n"
   ]
  },
  {
   "cell_type": "markdown",
   "metadata": {},
   "source": [
    "**Now in the code boxes below write the actual python script you need to complete this excercise. [25 points out of 40]** \n",
    "\n",
    "- Remember you that you need to also open the netcdf file and reads in the GPP data before you can loop over the 12 months.  \n",
    "\n",
    "- Give any plots you create x- and y-axis labels and a title. And don't forget to close the plot.\n",
    "\n",
    "- Do not forget to comment your code **[5 points out of 40]**! (I have given you a head start in the box below).\n",
    "\n",
    "*NOTE! After you complete the coding task there are some questions to answer based on the plot you have created (see markdown box below).*"
   ]
  },
  {
   "cell_type": "code",
   "execution_count": 1,
   "metadata": {},
   "outputs": [],
   "source": [
    "# - import libraries\n"
   ]
  },
  {
   "cell_type": "markdown",
   "metadata": {},
   "source": [
    "Once you have finished writing your code, answer the following questions based on what you see in your plot and what you have learned about GPP during our in-class exercises [5 points out of 40]**:\n",
    "\n",
    "1. During which month(s) is GPP highest and lowest?\n",
    "\n",
    "ANSWER: \n",
    "\n",
    "2. Approximately how long is the period of plant photosynthetic activity?\n",
    "\n",
    "ANSWER: \n",
    "\n",
    "3. Why do we see this seasonal pattern over the 12 months?\n",
    "\n",
    "ANSWER: "
   ]
  },
  {
   "cell_type": "markdown",
   "metadata": {},
   "source": [
    "**When you have finished, upload your completed Jupyter Notebook and your saved plot to the Canvas Course page by 2:15pm**"
   ]
  },
  {
   "cell_type": "code",
   "execution_count": null,
   "metadata": {},
   "outputs": [],
   "source": []
  }
 ],
 "metadata": {
  "kernelspec": {
   "display_name": "Python 2",
   "language": "python",
   "name": "python2"
  },
  "language_info": {
   "codemirror_mode": {
    "name": "ipython",
    "version": 2
   },
   "file_extension": ".py",
   "mimetype": "text/x-python",
   "name": "python",
   "nbconvert_exporter": "python",
   "pygments_lexer": "ipython2",
   "version": "2.7.15"
  }
 },
 "nbformat": 4,
 "nbformat_minor": 2
}
