# Welcome to GEOG-G489/589: Advanced Geospatial Data Analysis in Python! 

